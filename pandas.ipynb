{
 "cells": [
  {
   "cell_type": "markdown",
   "id": "c90afd2b",
   "metadata": {},
   "source": [
    "# THIS IS HEADER ONE"
   ]
  },
  {
   "cell_type": "markdown",
   "id": "ed991aa0",
   "metadata": {},
   "source": [
    "## THIS IS HEADER TWO"
   ]
  },
  {
   "cell_type": "markdown",
   "id": "b6c8d757",
   "metadata": {},
   "source": [
    "### THIS IS HEADER THREE"
   ]
  },
  {
   "cell_type": "code",
   "execution_count": 3,
   "id": "ff4486a0",
   "metadata": {},
   "outputs": [
    {
     "name": "stdout",
     "output_type": "stream",
     "text": [
      "hello world\n"
     ]
    }
   ],
   "source": [
    "print('hello world')"
   ]
  },
  {
   "cell_type": "code",
   "execution_count": 4,
   "id": "963a7a56",
   "metadata": {},
   "outputs": [],
   "source": [
    "# this is comment"
   ]
  },
  {
   "cell_type": "code",
   "execution_count": 5,
   "id": "a4a7488f",
   "metadata": {},
   "outputs": [],
   "source": [
    "name = 'inez'"
   ]
  },
  {
   "cell_type": "code",
   "execution_count": 6,
   "id": "d4857525",
   "metadata": {},
   "outputs": [
    {
     "data": {
      "text/plain": [
       "'inez'"
      ]
     },
     "execution_count": 6,
     "metadata": {},
     "output_type": "execute_result"
    }
   ],
   "source": [
    "name"
   ]
  },
  {
   "cell_type": "code",
   "execution_count": 7,
   "id": "432175cb",
   "metadata": {},
   "outputs": [],
   "source": [
    "name = 'jihyaa'"
   ]
  },
  {
   "cell_type": "code",
   "execution_count": 8,
   "id": "c412dbe1",
   "metadata": {},
   "outputs": [
    {
     "data": {
      "text/plain": [
       "'jihyaa'"
      ]
     },
     "execution_count": 8,
     "metadata": {},
     "output_type": "execute_result"
    }
   ],
   "source": [
    "name"
   ]
  },
  {
   "cell_type": "code",
   "execution_count": 9,
   "id": "65f052b8",
   "metadata": {},
   "outputs": [],
   "source": [
    "a,b,c = 'inez', 'jihyaa', 6"
   ]
  },
  {
   "cell_type": "code",
   "execution_count": 10,
   "id": "56776ba3",
   "metadata": {},
   "outputs": [
    {
     "data": {
      "text/plain": [
       "'inez'"
      ]
     },
     "execution_count": 10,
     "metadata": {},
     "output_type": "execute_result"
    }
   ],
   "source": [
    "a"
   ]
  },
  {
   "cell_type": "code",
   "execution_count": 11,
   "id": "42b14520",
   "metadata": {},
   "outputs": [
    {
     "data": {
      "text/plain": [
       "'jihyaa'"
      ]
     },
     "execution_count": 11,
     "metadata": {},
     "output_type": "execute_result"
    }
   ],
   "source": [
    "b"
   ]
  },
  {
   "cell_type": "code",
   "execution_count": 12,
   "id": "6524bbba",
   "metadata": {},
   "outputs": [
    {
     "data": {
      "text/plain": [
       "6"
      ]
     },
     "execution_count": 12,
     "metadata": {},
     "output_type": "execute_result"
    }
   ],
   "source": [
    "c"
   ]
  },
  {
   "cell_type": "code",
   "execution_count": 13,
   "id": "89aca549",
   "metadata": {},
   "outputs": [],
   "source": [
    "x=y= 'koyee'"
   ]
  },
  {
   "cell_type": "code",
   "execution_count": 14,
   "id": "45f0de32",
   "metadata": {},
   "outputs": [
    {
     "data": {
      "text/plain": [
       "'koyee'"
      ]
     },
     "execution_count": 14,
     "metadata": {},
     "output_type": "execute_result"
    }
   ],
   "source": [
    "x"
   ]
  },
  {
   "cell_type": "code",
   "execution_count": 15,
   "id": "ff18c80d",
   "metadata": {},
   "outputs": [
    {
     "data": {
      "text/plain": [
       "'koyee'"
      ]
     },
     "execution_count": 15,
     "metadata": {},
     "output_type": "execute_result"
    }
   ],
   "source": [
    "y"
   ]
  },
  {
   "cell_type": "code",
   "execution_count": 16,
   "id": "9fe6aa10",
   "metadata": {},
   "outputs": [],
   "source": [
    "_age = 23"
   ]
  },
  {
   "cell_type": "code",
   "execution_count": 17,
   "id": "3c1bd293",
   "metadata": {},
   "outputs": [
    {
     "data": {
      "text/plain": [
       "23"
      ]
     },
     "execution_count": 17,
     "metadata": {},
     "output_type": "execute_result"
    }
   ],
   "source": [
    "_age"
   ]
  },
  {
   "cell_type": "code",
   "execution_count": 18,
   "id": "8bfd99d9",
   "metadata": {},
   "outputs": [
    {
     "name": "stderr",
     "output_type": "stream",
     "text": [
      "'age' is not recognized as an internal or external command,\n",
      "operable program or batch file.\n"
     ]
    }
   ],
   "source": [
    "!age = 10"
   ]
  },
  {
   "cell_type": "code",
   "execution_count": 19,
   "id": "2a8cfe75",
   "metadata": {},
   "outputs": [],
   "source": [
    "a = 5\n",
    "b = 2.5\n",
    "c = 2+3j"
   ]
  },
  {
   "cell_type": "code",
   "execution_count": 20,
   "id": "edf6ec3a",
   "metadata": {},
   "outputs": [
    {
     "data": {
      "text/plain": [
       "int"
      ]
     },
     "execution_count": 20,
     "metadata": {},
     "output_type": "execute_result"
    }
   ],
   "source": [
    "type(a)"
   ]
  },
  {
   "cell_type": "code",
   "execution_count": 21,
   "id": "baa1a74d",
   "metadata": {},
   "outputs": [
    {
     "data": {
      "text/plain": [
       "float"
      ]
     },
     "execution_count": 21,
     "metadata": {},
     "output_type": "execute_result"
    }
   ],
   "source": [
    "type(b)"
   ]
  },
  {
   "cell_type": "code",
   "execution_count": 22,
   "id": "5088c594",
   "metadata": {},
   "outputs": [
    {
     "data": {
      "text/plain": [
       "complex"
      ]
     },
     "execution_count": 22,
     "metadata": {},
     "output_type": "execute_result"
    }
   ],
   "source": [
    "type(c)"
   ]
  },
  {
   "cell_type": "code",
   "execution_count": 23,
   "id": "e8b79901",
   "metadata": {},
   "outputs": [],
   "source": [
    "name = \"inez\""
   ]
  },
  {
   "cell_type": "code",
   "execution_count": 24,
   "id": "f09effc2",
   "metadata": {},
   "outputs": [
    {
     "data": {
      "text/plain": [
       "str"
      ]
     },
     "execution_count": 24,
     "metadata": {},
     "output_type": "execute_result"
    }
   ],
   "source": [
    "type(name)"
   ]
  },
  {
   "cell_type": "code",
   "execution_count": 25,
   "id": "ad3defda",
   "metadata": {},
   "outputs": [],
   "source": [
    "bol = False"
   ]
  },
  {
   "cell_type": "code",
   "execution_count": 26,
   "id": "dd100e1b",
   "metadata": {},
   "outputs": [
    {
     "data": {
      "text/plain": [
       "bool"
      ]
     },
     "execution_count": 26,
     "metadata": {},
     "output_type": "execute_result"
    }
   ],
   "source": [
    "type(bol)"
   ]
  },
  {
   "cell_type": "code",
   "execution_count": 27,
   "id": "19341658",
   "metadata": {},
   "outputs": [],
   "source": [
    "q = None"
   ]
  },
  {
   "cell_type": "code",
   "execution_count": 28,
   "id": "a2ae8d40",
   "metadata": {},
   "outputs": [
    {
     "data": {
      "text/plain": [
       "NoneType"
      ]
     },
     "execution_count": 28,
     "metadata": {},
     "output_type": "execute_result"
    }
   ],
   "source": [
    "type (q)"
   ]
  },
  {
   "cell_type": "code",
   "execution_count": 29,
   "id": "7094aec7",
   "metadata": {},
   "outputs": [
    {
     "name": "stdout",
     "output_type": "stream",
     "text": [
      "<class 'float'>\n",
      "<class 'int'>\n"
     ]
    }
   ],
   "source": [
    "f1 = 10.12\n",
    "f2 = 3\n",
    "print(type(f1))\n",
    "print(type(f2))"
   ]
  },
  {
   "cell_type": "code",
   "execution_count": 30,
   "id": "37dde636",
   "metadata": {},
   "outputs": [],
   "source": [
    "f2 =f2/f1"
   ]
  },
  {
   "cell_type": "code",
   "execution_count": 31,
   "id": "e9be669b",
   "metadata": {},
   "outputs": [
    {
     "name": "stdout",
     "output_type": "stream",
     "text": [
      "0.2964426877470356\n",
      "<class 'float'>\n"
     ]
    }
   ],
   "source": [
    "print(f2)\n",
    "print(type(f2))"
   ]
  },
  {
   "cell_type": "code",
   "execution_count": 32,
   "id": "ab79ddc5",
   "metadata": {},
   "outputs": [],
   "source": [
    "f2 = float(f2)"
   ]
  },
  {
   "cell_type": "code",
   "execution_count": 33,
   "id": "b447402c",
   "metadata": {},
   "outputs": [
    {
     "data": {
      "text/plain": [
       "float"
      ]
     },
     "execution_count": 33,
     "metadata": {},
     "output_type": "execute_result"
    }
   ],
   "source": [
    "type(f2)"
   ]
  },
  {
   "cell_type": "code",
   "execution_count": 34,
   "id": "3d3e4d4e",
   "metadata": {},
   "outputs": [
    {
     "data": {
      "text/plain": [
       "str"
      ]
     },
     "execution_count": 34,
     "metadata": {},
     "output_type": "execute_result"
    }
   ],
   "source": [
    "str1 = '10'\n",
    "type(str1)"
   ]
  },
  {
   "cell_type": "code",
   "execution_count": 35,
   "id": "48a96165",
   "metadata": {},
   "outputs": [],
   "source": [
    "str1 = int(str1)"
   ]
  },
  {
   "cell_type": "code",
   "execution_count": 36,
   "id": "b4501a76",
   "metadata": {},
   "outputs": [
    {
     "data": {
      "text/plain": [
       "int"
      ]
     },
     "execution_count": 36,
     "metadata": {},
     "output_type": "execute_result"
    }
   ],
   "source": [
    "type(str1)"
   ]
  },
  {
   "cell_type": "code",
   "execution_count": 37,
   "id": "506df545",
   "metadata": {},
   "outputs": [
    {
     "data": {
      "text/plain": [
       "10"
      ]
     },
     "execution_count": 37,
     "metadata": {},
     "output_type": "execute_result"
    }
   ],
   "source": [
    "str1"
   ]
  },
  {
   "cell_type": "code",
   "execution_count": 38,
   "id": "9470eaba",
   "metadata": {},
   "outputs": [],
   "source": [
    "name = 'alez'\n",
    "age = 20"
   ]
  },
  {
   "cell_type": "code",
   "execution_count": 39,
   "id": "ddd9ece9",
   "metadata": {},
   "outputs": [
    {
     "name": "stdout",
     "output_type": "stream",
     "text": [
      "My name is alez and age is 20\n"
     ]
    }
   ],
   "source": [
    "# using add method \n",
    "print('My name is ' +  name +  ' and age is',+ age)"
   ]
  },
  {
   "cell_type": "code",
   "execution_count": 40,
   "id": "7b625d6e",
   "metadata": {},
   "outputs": [
    {
     "name": "stdout",
     "output_type": "stream",
     "text": [
      "My name is alez and age is 20\n"
     ]
    }
   ],
   "source": [
    "# using f string method\n",
    "print(f'My name is {name} and age is {age}')"
   ]
  },
  {
   "cell_type": "code",
   "execution_count": 41,
   "id": "dbf1027e",
   "metadata": {},
   "outputs": [
    {
     "name": "stdout",
     "output_type": "stream",
     "text": [
      "My name is alez and age is 20\n"
     ]
    }
   ],
   "source": [
    "# using .format method \n",
    "print('My name is {} and age is {}'.format(name,age))"
   ]
  },
  {
   "cell_type": "code",
   "execution_count": 42,
   "id": "1aaf633e",
   "metadata": {},
   "outputs": [],
   "source": [
    "tup1 = (1,2,3)"
   ]
  },
  {
   "cell_type": "code",
   "execution_count": 43,
   "id": "952cabde",
   "metadata": {},
   "outputs": [
    {
     "data": {
      "text/plain": [
       "tuple"
      ]
     },
     "execution_count": 43,
     "metadata": {},
     "output_type": "execute_result"
    }
   ],
   "source": [
    "type(tup1)"
   ]
  },
  {
   "cell_type": "code",
   "execution_count": 44,
   "id": "b90e4fea",
   "metadata": {},
   "outputs": [
    {
     "data": {
      "text/plain": [
       "(1, 2, 3)"
      ]
     },
     "execution_count": 44,
     "metadata": {},
     "output_type": "execute_result"
    }
   ],
   "source": [
    "tup1"
   ]
  },
  {
   "cell_type": "code",
   "execution_count": 45,
   "id": "69a0ddb4",
   "metadata": {},
   "outputs": [],
   "source": [
    "#sets\n",
    "#unique (no duplicate)\n",
    "#unordered\n"
   ]
  },
  {
   "cell_type": "code",
   "execution_count": 46,
   "id": "13cf6238",
   "metadata": {},
   "outputs": [],
   "source": [
    "#unique\n",
    "s1 = set()"
   ]
  },
  {
   "cell_type": "code",
   "execution_count": 47,
   "id": "2af90081",
   "metadata": {},
   "outputs": [
    {
     "data": {
      "text/plain": [
       "set"
      ]
     },
     "execution_count": 47,
     "metadata": {},
     "output_type": "execute_result"
    }
   ],
   "source": [
    "type(s1)"
   ]
  },
  {
   "cell_type": "code",
   "execution_count": 48,
   "id": "c93fe590",
   "metadata": {},
   "outputs": [],
   "source": [
    "s1 = {1,2,3,4}"
   ]
  },
  {
   "cell_type": "code",
   "execution_count": 49,
   "id": "62589a72",
   "metadata": {},
   "outputs": [
    {
     "data": {
      "text/plain": [
       "set"
      ]
     },
     "execution_count": 49,
     "metadata": {},
     "output_type": "execute_result"
    }
   ],
   "source": [
    "type(s1)"
   ]
  },
  {
   "cell_type": "code",
   "execution_count": 50,
   "id": "0e2dcb74",
   "metadata": {},
   "outputs": [],
   "source": [
    "s2 = {1,2,2,4,3,5,6,6}"
   ]
  },
  {
   "cell_type": "code",
   "execution_count": 51,
   "id": "6d2492d1",
   "metadata": {},
   "outputs": [
    {
     "data": {
      "text/plain": [
       "{1, 2, 3, 4, 5, 6}"
      ]
     },
     "execution_count": 51,
     "metadata": {},
     "output_type": "execute_result"
    }
   ],
   "source": [
    "s2"
   ]
  },
  {
   "cell_type": "code",
   "execution_count": 52,
   "id": "954325a3",
   "metadata": {},
   "outputs": [
    {
     "name": "stdout",
     "output_type": "stream",
     "text": [
      "{1, 2, 3, 4, 5, 6, 7, 8}\n"
     ]
    }
   ],
   "source": [
    "#create 2 sets perform union on two sets\n",
    "a = {1,2,3,4}\n",
    "b = {5,6,7,8}\n",
    "print (a|b)"
   ]
  },
  {
   "cell_type": "code",
   "execution_count": 53,
   "id": "2d503ba5",
   "metadata": {},
   "outputs": [
    {
     "name": "stdout",
     "output_type": "stream",
     "text": [
      "{1, 2, 3, 4, 5, 6, 7, 8}\n"
     ]
    }
   ],
   "source": [
    "a = {1,2,3,4}\n",
    "b = {5,6,7,8}\n",
    "total = a.union(b)\n",
    "print(total)"
   ]
  },
  {
   "cell_type": "code",
   "execution_count": 54,
   "id": "2d4be34f",
   "metadata": {},
   "outputs": [
    {
     "name": "stdout",
     "output_type": "stream",
     "text": [
      "{2, 3}\n"
     ]
    }
   ],
   "source": [
    "#for intersection\n",
    "a = {1,2,3,4}\n",
    "b = {5,2,7,3}\n",
    "print (a & b)"
   ]
  },
  {
   "cell_type": "code",
   "execution_count": 55,
   "id": "2c45efe7",
   "metadata": {},
   "outputs": [
    {
     "name": "stdout",
     "output_type": "stream",
     "text": [
      "{'name': 'inez', 'age': 23}\n"
     ]
    }
   ],
   "source": [
    "#create dictionary\n",
    "dict1 = {\"name\": \"inez\", \"age\": 23}\n",
    "print(dict1)"
   ]
  },
  {
   "cell_type": "code",
   "execution_count": 56,
   "id": "eba36a5f",
   "metadata": {},
   "outputs": [
    {
     "name": "stdout",
     "output_type": "stream",
     "text": [
      "inez\n",
      "23\n"
     ]
    }
   ],
   "source": [
    "print(dict1[\"name\"])\n",
    "print(dict1[\"age\"])"
   ]
  },
  {
   "cell_type": "code",
   "execution_count": 57,
   "id": "78c70aa3",
   "metadata": {},
   "outputs": [],
   "source": [
    "dict1[\"location\"] = \"Kathmandu\""
   ]
  },
  {
   "cell_type": "code",
   "execution_count": 58,
   "id": "57c5159b",
   "metadata": {},
   "outputs": [
    {
     "name": "stdout",
     "output_type": "stream",
     "text": [
      "{'name': 'inez', 'age': 23, 'location': 'Kathmandu'}\n"
     ]
    }
   ],
   "source": [
    "print(dict1)"
   ]
  },
  {
   "cell_type": "code",
   "execution_count": 59,
   "id": "0a9d7e58",
   "metadata": {},
   "outputs": [],
   "source": [
    "del dict1[\"age\"]"
   ]
  },
  {
   "cell_type": "code",
   "execution_count": 60,
   "id": "c8a5764a",
   "metadata": {},
   "outputs": [
    {
     "name": "stdout",
     "output_type": "stream",
     "text": [
      "{'name': 'inez', 'location': 'Kathmandu'}\n"
     ]
    }
   ],
   "source": [
    "print(dict1)"
   ]
  },
  {
   "cell_type": "code",
   "execution_count": 61,
   "id": "23435a4f",
   "metadata": {},
   "outputs": [],
   "source": [
    "#frozenset : immutable set\n",
    "frozset = frozenset([1,2,3,3,4,5])"
   ]
  },
  {
   "cell_type": "code",
   "execution_count": 62,
   "id": "e6f5e8cc",
   "metadata": {},
   "outputs": [
    {
     "data": {
      "text/plain": [
       "frozenset({1, 2, 3, 4, 5})"
      ]
     },
     "execution_count": 62,
     "metadata": {},
     "output_type": "execute_result"
    }
   ],
   "source": [
    "frozset"
   ]
  },
  {
   "cell_type": "code",
   "execution_count": 69,
   "id": "80a7902e",
   "metadata": {},
   "outputs": [],
   "source": [
    "from collections import deque\n",
    "dq = deque([1,2,3])"
   ]
  },
  {
   "cell_type": "code",
   "execution_count": 70,
   "id": "f2e45aed",
   "metadata": {},
   "outputs": [],
   "source": [
    "dq.append(4)"
   ]
  },
  {
   "cell_type": "code",
   "execution_count": 71,
   "id": "aaadf67b",
   "metadata": {},
   "outputs": [
    {
     "data": {
      "text/plain": [
       "4"
      ]
     },
     "execution_count": 71,
     "metadata": {},
     "output_type": "execute_result"
    }
   ],
   "source": [
    "dq.pop()"
   ]
  },
  {
   "cell_type": "code",
   "execution_count": 72,
   "id": "4deab29a",
   "metadata": {},
   "outputs": [
    {
     "name": "stdout",
     "output_type": "stream",
     "text": [
      "deque([1, 2, 3])\n"
     ]
    }
   ],
   "source": [
    "print(dq)"
   ]
  },
  {
   "cell_type": "code",
   "execution_count": 76,
   "id": "7261059e",
   "metadata": {},
   "outputs": [],
   "source": [
    "from collections import Counter\n",
    "c= Counter(\"aaaabbbbbbccccccdddd\")\n"
   ]
  },
  {
   "cell_type": "code",
   "execution_count": 77,
   "id": "ea0661b8",
   "metadata": {},
   "outputs": [
    {
     "data": {
      "text/plain": [
       "Counter({'b': 6, 'c': 6, 'a': 4, 'd': 4})"
      ]
     },
     "execution_count": 77,
     "metadata": {},
     "output_type": "execute_result"
    }
   ],
   "source": [
    "c"
   ]
  },
  {
   "cell_type": "code",
   "execution_count": 78,
   "id": "d475ea94",
   "metadata": {},
   "outputs": [],
   "source": [
    "l1 = [1,2,3,4,5]"
   ]
  },
  {
   "cell_type": "code",
   "execution_count": 79,
   "id": "29e1fecb",
   "metadata": {},
   "outputs": [],
   "source": [
    "lc = [item*item for item in l1 ]"
   ]
  },
  {
   "cell_type": "code",
   "execution_count": 80,
   "id": "e56ed96a",
   "metadata": {},
   "outputs": [
    {
     "data": {
      "text/plain": [
       "[1, 4, 9, 16, 25]"
      ]
     },
     "execution_count": 80,
     "metadata": {},
     "output_type": "execute_result"
    }
   ],
   "source": [
    "lc"
   ]
  },
  {
   "cell_type": "code",
   "execution_count": 81,
   "id": "a531681d",
   "metadata": {},
   "outputs": [
    {
     "name": "stdout",
     "output_type": "stream",
     "text": [
      "[2, 4]\n"
     ]
    }
   ],
   "source": [
    "l2= [1,2,3,4,77,47,49]\n",
    "lc2= [item for item in l2 if item % 2 == 0]\n",
    "print(lc2)"
   ]
  },
  {
   "cell_type": "code",
   "execution_count": 82,
   "id": "e3d9c7eb",
   "metadata": {},
   "outputs": [],
   "source": [
    "l3 = [\"hello\", \"world\"]\n",
    "lc3 = [item.upper() for item in l3 ]"
   ]
  },
  {
   "cell_type": "code",
   "execution_count": 83,
   "id": "3b54bf47",
   "metadata": {},
   "outputs": [
    {
     "data": {
      "text/plain": [
       "['HELLO', 'WORLD']"
      ]
     },
     "execution_count": 83,
     "metadata": {},
     "output_type": "execute_result"
    }
   ],
   "source": [
    "lc3"
   ]
  },
  {
   "cell_type": "code",
   "execution_count": 86,
   "id": "bc9d46d7",
   "metadata": {},
   "outputs": [],
   "source": [
    "#dict comprehension\n",
    "lc4 = {item: item.upper() for item in l3}"
   ]
  },
  {
   "cell_type": "code",
   "execution_count": 87,
   "id": "d6a0a3a2",
   "metadata": {},
   "outputs": [
    {
     "data": {
      "text/plain": [
       "{'hello': 'HELLO', 'world': 'WORLD'}"
      ]
     },
     "execution_count": 87,
     "metadata": {},
     "output_type": "execute_result"
    }
   ],
   "source": [
    "lc4"
   ]
  },
  {
   "cell_type": "code",
   "execution_count": 88,
   "id": "5fc54b9d",
   "metadata": {},
   "outputs": [],
   "source": [
    "l5 = {item: item**2 for item in range (1,11)}"
   ]
  },
  {
   "cell_type": "code",
   "execution_count": 89,
   "id": "d8f61aee",
   "metadata": {},
   "outputs": [
    {
     "data": {
      "text/plain": [
       "{1: 1, 2: 4, 3: 9, 4: 16, 5: 25, 6: 36, 7: 49, 8: 64, 9: 81, 10: 100}"
      ]
     },
     "execution_count": 89,
     "metadata": {},
     "output_type": "execute_result"
    }
   ],
   "source": [
    "l5"
   ]
  },
  {
   "cell_type": "code",
   "execution_count": 90,
   "id": "23a4caa7",
   "metadata": {},
   "outputs": [],
   "source": [
    "#generators -- return value one at a time\n",
    "g1 = (item for item in range(10))"
   ]
  },
  {
   "cell_type": "code",
   "execution_count": 91,
   "id": "477296b2",
   "metadata": {},
   "outputs": [
    {
     "data": {
      "text/plain": [
       "<generator object <genexpr> at 0x00000285631EA8C0>"
      ]
     },
     "execution_count": 91,
     "metadata": {},
     "output_type": "execute_result"
    }
   ],
   "source": [
    "g1"
   ]
  },
  {
   "cell_type": "code",
   "execution_count": 92,
   "id": "7e2b7ec3",
   "metadata": {},
   "outputs": [
    {
     "data": {
      "text/plain": [
       "0"
      ]
     },
     "execution_count": 92,
     "metadata": {},
     "output_type": "execute_result"
    }
   ],
   "source": [
    "next(g1)"
   ]
  },
  {
   "cell_type": "code",
   "execution_count": null,
   "id": "c6fb7699",
   "metadata": {},
   "outputs": [],
   "source": [
    "#lambda --- small, one line function\n",
    "#syntac\n",
    "# lambda variable : function_body "
   ]
  },
  {
   "cell_type": "code",
   "execution_count": 2,
   "id": "0c4fecb2",
   "metadata": {},
   "outputs": [
    {
     "data": {
      "text/plain": [
       "25"
      ]
     },
     "execution_count": 2,
     "metadata": {},
     "output_type": "execute_result"
    }
   ],
   "source": [
    "#create a lamda function to get the square of num:\n",
    "result = lambda x: x* x\n",
    "result(5)\n"
   ]
  },
  {
   "cell_type": "code",
   "execution_count": null,
   "id": "30865cba",
   "metadata": {},
   "outputs": [
    {
     "name": "stdout",
     "output_type": "stream",
     "text": [
      "[4, 5, 6, 7]\n"
     ]
    }
   ],
   "source": [
    "#map --- applies function to iterable (list)\n",
    "#Syntax\n",
    "# map(functiopn, iterable)\n",
    "num = [1,2,3,4]\n",
    "#add 3 to every iterable of list num\n",
    "add = list(map(lambda x : x+3, num))\n",
    "print(add)"
   ]
  },
  {
   "cell_type": "code",
   "execution_count": 4,
   "id": "4c91d2d6",
   "metadata": {},
   "outputs": [],
   "source": [
    "#filter --- return the true value\n",
    "#SYNTAX\n",
    "#filter(function, iterable)"
   ]
  },
  {
   "cell_type": "code",
   "execution_count": 6,
   "id": "7177c00b",
   "metadata": {},
   "outputs": [
    {
     "name": "stdout",
     "output_type": "stream",
     "text": [
      "[3, 6, 9, 12]\n"
     ]
    }
   ],
   "source": [
    "#using filter from the list filter numbers divisible by 3\n",
    "num = [1,2,3,4,5,6,7,8,9,10,11,12]\n",
    "div = list(filter(lambda x : x % 3 ==0, num))\n",
    "print(div)"
   ]
  },
  {
   "cell_type": "code",
   "execution_count": 8,
   "id": "db51f17d",
   "metadata": {},
   "outputs": [
    {
     "name": "stdout",
     "output_type": "stream",
     "text": [
      "78\n"
     ]
    }
   ],
   "source": [
    "#reduce ---educe a list to a single value by applying a function cumulatively to the elements.\n",
    "from functools import reduce\n",
    "sum_num = reduce(lambda x,y : x+ y, num)\n",
    "print(sum_num)"
   ]
  },
  {
   "cell_type": "code",
   "execution_count": 9,
   "id": "b3eb658f",
   "metadata": {},
   "outputs": [],
   "source": [
    "#squred sun of even number from list (filter, map, reduce)\n",
    "num1 = [1,2,3,4,5,6,7,8]\n",
    "even_num1 = list(filter(lambda x : x % 2 ==0, num1))"
   ]
  },
  {
   "cell_type": "code",
   "execution_count": 10,
   "id": "885e55f9",
   "metadata": {},
   "outputs": [
    {
     "name": "stdout",
     "output_type": "stream",
     "text": [
      "[4, 16, 36, 64]\n"
     ]
    }
   ],
   "source": [
    "squared_even = list(map(lambda x: x**2, even_num1))\n",
    "print(squared_even)  \n"
   ]
  },
  {
   "cell_type": "code",
   "execution_count": 11,
   "id": "cf185292",
   "metadata": {},
   "outputs": [
    {
     "name": "stdout",
     "output_type": "stream",
     "text": [
      "[4, 16, 36, 64]\n"
     ]
    }
   ],
   "source": [
    "squared_even = list(map(lambda x: x**2, even_num1))\n",
    "print(squared_even)\n"
   ]
  },
  {
   "cell_type": "code",
   "execution_count": 12,
   "id": "f07428da",
   "metadata": {},
   "outputs": [
    {
     "name": "stdout",
     "output_type": "stream",
     "text": [
      "120\n"
     ]
    }
   ],
   "source": [
    "from functools import reduce\n",
    "\n",
    "squared_sum = reduce(lambda x, y: x + y, squared_even)\n",
    "print(squared_sum)\n"
   ]
  },
  {
   "cell_type": "code",
   "execution_count": null,
   "id": "2fff14d8",
   "metadata": {},
   "outputs": [],
   "source": [
    "#error handling\n",
    "#helps your program to not crash \n",
    "#show a friendly message instead.\n",
    "# syntax : use try, except, else, finally blocks\n"
   ]
  },
  {
   "cell_type": "code",
   "execution_count": 14,
   "id": "da852a51",
   "metadata": {},
   "outputs": [],
   "source": [
    "# try:\n",
    "#     #code that can rise exception\n",
    "#     pass\n",
    "# except exception_type:\n",
    "#     #code that shows this exception\n",
    "#     pass\n",
    "# else:\n",
    "#     #program when run is success or no exception\n",
    "# finally:\n",
    "#     #always run this\n",
    "#     pass\n"
   ]
  },
  {
   "cell_type": "code",
   "execution_count": 18,
   "id": "0d2c3e08",
   "metadata": {},
   "outputs": [
    {
     "name": "stdout",
     "output_type": "stream",
     "text": [
      "The input value is not correct\n",
      "Program Run is successful\n"
     ]
    }
   ],
   "source": [
    "try:\n",
    "    num1 = int(input('ENter the first number: '))\n",
    "    num2 = int(input('ENter the second number: '))\n",
    "    div_result = num1/num2\n",
    "except ZeroDivisionError:\n",
    "    print('Second number cannot be Zero')\n",
    "except ValueError:\n",
    "    print('The input value is not correct')\n",
    "else:\n",
    "    print(f'The result is {div_result}')\n",
    "finally:\n",
    "    print('Program Run is successful')"
   ]
  },
  {
   "cell_type": "code",
   "execution_count": 22,
   "id": "9aa2bab1",
   "metadata": {},
   "outputs": [],
   "source": [
    "#creating custom exception \n",
    "class NegativeNumberError(Exception):\n",
    "    pass"
   ]
  },
  {
   "cell_type": "code",
   "execution_count": 24,
   "id": "ffa9d281",
   "metadata": {},
   "outputs": [],
   "source": [
    "def negative_age(x):\n",
    "    if x < 0:\n",
    "        raise NegativeNumberError('Age cannot be negative')\n",
    "    return 'Age is valid'"
   ]
  },
  {
   "cell_type": "code",
   "execution_count": 25,
   "id": "c73442aa",
   "metadata": {},
   "outputs": [
    {
     "name": "stdout",
     "output_type": "stream",
     "text": [
      "Age cannot be negative\n"
     ]
    }
   ],
   "source": [
    "try:\n",
    "    negative_age(-1)\n",
    "except NegativeNumberError as e:\n",
    "    print(e)"
   ]
  },
  {
   "cell_type": "code",
   "execution_count": null,
   "id": "08710d03",
   "metadata": {},
   "outputs": [],
   "source": [
    "#assignment: Build CSV - Json converter using Exception Handling"
   ]
  },
  {
   "cell_type": "code",
   "execution_count": 26,
   "id": "ebba8ccf",
   "metadata": {},
   "outputs": [],
   "source": [
    "#PYTHON CLASS\n",
    "class ClassName:\n",
    "    #class attributes and methods\n",
    "    pass\n",
    "\n",
    "#create a object of a class\n",
    "c1 = ClassName()\n"
   ]
  },
  {
   "cell_type": "code",
   "execution_count": 47,
   "id": "b3ecabc5",
   "metadata": {},
   "outputs": [
    {
     "name": "stdout",
     "output_type": "stream",
     "text": [
      "Build Year : 2000, Brand : Toyota, Model : Hilux\n"
     ]
    }
   ],
   "source": [
    "class Car:\n",
    "    #constructor\n",
    "    def __init__(self, brand, model, year):\n",
    "        self.brand = brand\n",
    "        self.model = model\n",
    "        self.year = year\n",
    "        self.speed = 0 \n",
    "\n",
    "    def display_info(self):\n",
    "        print(f\"Build Year : {self.year}, Brand : {self.brand}, Model : {self.model}\")\n",
    "    \n",
    "    def accelerate (self, amount):\n",
    "        self.speed += amount\n",
    "        print(\"Car speed is\", self.speed, 'km/hr')\n",
    "\n",
    "c2 = Car('Toyota', 'Hilux', 2000)\n",
    "c2.display_info()\n",
    "\n"
   ]
  },
  {
   "cell_type": "code",
   "execution_count": 42,
   "id": "6f1930b9",
   "metadata": {},
   "outputs": [],
   "source": [
    "#create a object of a class\n"
   ]
  },
  {
   "cell_type": "code",
   "execution_count": 48,
   "id": "148a73da",
   "metadata": {},
   "outputs": [
    {
     "name": "stdout",
     "output_type": "stream",
     "text": [
      "Car speed is 80 km/hr\n"
     ]
    }
   ],
   "source": [
    "\n",
    "c2.accelerate(80)"
   ]
  },
  {
   "cell_type": "code",
   "execution_count": 49,
   "id": "5ca24887",
   "metadata": {},
   "outputs": [],
   "source": [
    "#operator overloading, dunder methods  (double underscore)"
   ]
  },
  {
   "cell_type": "code",
   "execution_count": 62,
   "id": "82eb77f6",
   "metadata": {},
   "outputs": [],
   "source": [
    "#vector addition using operator overloading\n",
    "class Vector2D:\n",
    "    def __init__(self, x, y):\n",
    "        self.x = x\n",
    "        self.y = y\n",
    "\n",
    "    #string vector overloading\n",
    "    def __str__(self):\n",
    "        return f'{self.x}, {self.y}'\n",
    "    \n",
    "    #addition v1 + v2\n",
    "    def __add__(self, other):\n",
    "        return Vector2D(self.x + other.x, self.y+other.y)\n",
    "    \n",
    "    #substraction\n",
    "    def __sub__(self, other):\n",
    "        return Vector2D(self.x - other.x, self.y -other.y)\n"
   ]
  },
  {
   "cell_type": "code",
   "execution_count": 66,
   "id": "fae6c720",
   "metadata": {},
   "outputs": [],
   "source": [
    "#instance of class Vector2D\n",
    "v1 = Vector2D(2, 3)\n",
    "v2 = Vector2D(3, 4)"
   ]
  },
  {
   "cell_type": "code",
   "execution_count": 67,
   "id": "7f9ce582",
   "metadata": {},
   "outputs": [
    {
     "name": "stdout",
     "output_type": "stream",
     "text": [
      "5, 7\n"
     ]
    }
   ],
   "source": [
    "print(v1+v2)\n"
   ]
  },
  {
   "cell_type": "code",
   "execution_count": 68,
   "id": "1ad915a8",
   "metadata": {},
   "outputs": [
    {
     "name": "stdout",
     "output_type": "stream",
     "text": [
      "-1, -1\n"
     ]
    }
   ],
   "source": [
    "print(v1-v2)"
   ]
  },
  {
   "cell_type": "code",
   "execution_count": null,
   "id": "5cd355b0",
   "metadata": {},
   "outputs": [],
   "source": [
    "#inheritance, method overriding\n",
    "class Animal():\n",
    "    def __init__(self):\n",
    "        pass\n",
    "\n",
    "    def speak(self):\n",
    "        print('Animal Speak')"
   ]
  },
  {
   "cell_type": "code",
   "execution_count": 98,
   "id": "03b8b398",
   "metadata": {},
   "outputs": [],
   "source": [
    "#single inheritance with method overriding\n",
    "class Dog (Animal):\n",
    "    def __init__(self):\n",
    "         pass\n",
    "    def speak(self):\n",
    "        print('Dog Barks')\n"
   ]
  },
  {
   "cell_type": "code",
   "execution_count": 99,
   "id": "64991dcd",
   "metadata": {},
   "outputs": [],
   "source": [
    "d1 = Dog()"
   ]
  },
  {
   "cell_type": "code",
   "execution_count": 100,
   "id": "aa831788",
   "metadata": {},
   "outputs": [
    {
     "name": "stdout",
     "output_type": "stream",
     "text": [
      "Dog Barks\n"
     ]
    }
   ],
   "source": [
    "d1.speak()"
   ]
  },
  {
   "cell_type": "code",
   "execution_count": 101,
   "id": "73efb966",
   "metadata": {},
   "outputs": [],
   "source": [
    "class Employee():\n",
    "    def __init__(self,name, base_salary):\n",
    "        self.name = name\n",
    "        self.base_salary = base_salary\n",
    "    \n",
    "    def get_details(self):\n",
    "        return f'Employee Name: {self.name}, Salary: {self.base_salary}'\n",
    "    \n"
   ]
  },
  {
   "cell_type": "code",
   "execution_count": 102,
   "id": "5e3adadf",
   "metadata": {},
   "outputs": [],
   "source": [
    "class Manager(Employee):\n",
    "    def __init__(self, name, base_salary, bonus):\n",
    "        super().__init__(name, base_salary)\n",
    "        self.bonus = bonus\n",
    "    \n",
    "    def get_details(self):\n",
    "        base = super().get_details()\n",
    "        return f\"{base}, Bonus: {self.bonus}\""
   ]
  },
  {
   "cell_type": "code",
   "execution_count": 104,
   "id": "47658327",
   "metadata": {},
   "outputs": [],
   "source": [
    "e1 = Employee('Niha', 1000)\n",
    "m1 =Manager('Inez', 2000, 200)"
   ]
  },
  {
   "cell_type": "code",
   "execution_count": 105,
   "id": "14e18a7c",
   "metadata": {},
   "outputs": [
    {
     "data": {
      "text/plain": [
       "'Employee Name: Niha, Salary: 1000'"
      ]
     },
     "execution_count": 105,
     "metadata": {},
     "output_type": "execute_result"
    }
   ],
   "source": [
    "e1.get_details()"
   ]
  },
  {
   "cell_type": "code",
   "execution_count": 106,
   "id": "bf8c3208",
   "metadata": {},
   "outputs": [
    {
     "data": {
      "text/plain": [
       "'Employee Name: Inez, Salary: 2000, Bonus: 200'"
      ]
     },
     "execution_count": 106,
     "metadata": {},
     "output_type": "execute_result"
    }
   ],
   "source": [
    "m1.get_details()"
   ]
  },
  {
   "cell_type": "code",
   "execution_count": 107,
   "id": "5272a71b",
   "metadata": {},
   "outputs": [],
   "source": [
    "###MIXINS \n",
    "# #special class that add reusable functionality to other class, they are not fully parent\n",
    "# __init__ is not defined"
   ]
  },
  {
   "cell_type": "code",
   "execution_count": 108,
   "id": "bce7f229",
   "metadata": {},
   "outputs": [],
   "source": [
    "from datetime import datetime\n",
    "class LogMixin():\n",
    "    def log(self, message):\n",
    "        return f\"[{datetime.now()}]: {message}\""
   ]
  },
  {
   "cell_type": "code",
   "execution_count": 113,
   "id": "2fc46185",
   "metadata": {},
   "outputs": [],
   "source": [
    "class User(LogMixin):\n",
    "    def __init__ (self, username, password):\n",
    "        self.username = username\n",
    "        self.password = password\n",
    "\n",
    "    def greet(self):\n",
    "        print(self.log(f\"{self.username} has logged in.\"))"
   ]
  },
  {
   "cell_type": "code",
   "execution_count": 119,
   "id": "9d0866b4",
   "metadata": {},
   "outputs": [],
   "source": [
    "u1 = User('admin', 'admin1')"
   ]
  },
  {
   "cell_type": "code",
   "execution_count": 115,
   "id": "bc4e10b6",
   "metadata": {},
   "outputs": [
    {
     "name": "stdout",
     "output_type": "stream",
     "text": [
      "[2025-07-08 08:47:07.429388]: admin has logged in.\n"
     ]
    }
   ],
   "source": [
    "u1.greet()"
   ]
  },
  {
   "cell_type": "code",
   "execution_count": 132,
   "id": "eb5fcee3",
   "metadata": {},
   "outputs": [],
   "source": [
    "class DiscountMixins():\n",
    "    def add_discount(self, percent):\n",
    "        discount = self.price * (percent/100)\n",
    "        print(f\"Original price is {self.price} and price after discount is {self.price-discount}\")"
   ]
  },
  {
   "cell_type": "code",
   "execution_count": 133,
   "id": "813b9a2d",
   "metadata": {},
   "outputs": [],
   "source": [
    "\n",
    "class Product(DiscountMixins):\n",
    "    def __init__(self,name, price):\n",
    "        self.name = name\n",
    "        self.price = price\n",
    "\n",
    "    def final_price(self, name, price):\n",
    "        super().add_discount(20)"
   ]
  },
  {
   "cell_type": "code",
   "execution_count": 134,
   "id": "b457eb29",
   "metadata": {},
   "outputs": [],
   "source": [
    "p1 = Product('rice', 2000)"
   ]
  },
  {
   "cell_type": "code",
   "execution_count": 136,
   "id": "74f87e26",
   "metadata": {},
   "outputs": [
    {
     "name": "stdout",
     "output_type": "stream",
     "text": [
      "Original price is 2000 and price after discount is 1600.0\n"
     ]
    }
   ],
   "source": [
    "p1.final_price('rice', 2000)"
   ]
  },
  {
   "cell_type": "code",
   "execution_count": null,
   "id": "3e1837ba",
   "metadata": {},
   "outputs": [],
   "source": []
  }
 ],
 "metadata": {
  "kernelspec": {
   "display_name": "Python 3",
   "language": "python",
   "name": "python3"
  },
  "language_info": {
   "codemirror_mode": {
    "name": "ipython",
    "version": 3
   },
   "file_extension": ".py",
   "mimetype": "text/x-python",
   "name": "python",
   "nbconvert_exporter": "python",
   "pygments_lexer": "ipython3",
   "version": "3.12.4"
  }
 },
 "nbformat": 4,
 "nbformat_minor": 5
}
