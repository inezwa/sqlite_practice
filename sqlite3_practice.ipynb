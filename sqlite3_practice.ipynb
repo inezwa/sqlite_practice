{
 "cells": [
  {
   "cell_type": "code",
   "execution_count": 2,
   "id": "332d1dc9",
   "metadata": {},
   "outputs": [],
   "source": [
    "import sqlite3 #build in sqlite3 module\n",
    "\n",
    "#connect the database (file will be created id doesnt exist)\n",
    "conn = sqlite3.connect ('students.db')\n",
    "\n",
    "#create a cursor to execute a sql\n",
    "cursor = conn.cursor() #cursor execute the query \n"
   ]
  },
  {
   "cell_type": "code",
   "execution_count": 3,
   "id": "d922cf0f",
   "metadata": {},
   "outputs": [],
   "source": [
    "#create table\n",
    "cursor.execute(\"\"\"\n",
    "CREATE TABLE if not exists students(\n",
    "    id integer primary key autoincrement,\n",
    "    name text not null,\n",
    "    grade integer,\n",
    "    address text \n",
    ")\"\"\"\n",
    ")\n",
    "conn.commit()\n"
   ]
  },
  {
   "cell_type": "code",
   "execution_count": 4,
   "id": "5a284ed7",
   "metadata": {},
   "outputs": [],
   "source": [
    "#insert into table\n",
    "cursor.execute(\"\"\"insert into students (name, grade, address) values\n",
    "('Inez', 12, 'KTM'),\n",
    "('Jihyaa', 11, 'PKR'),\n",
    "('Hermez', 10, 'BKT')\"\"\")\n",
    "\n",
    "conn.commit()\n"
   ]
  },
  {
   "cell_type": "code",
   "execution_count": 5,
   "id": "158b8a3b",
   "metadata": {},
   "outputs": [],
   "source": [
    "#select\n",
    "cursor.execute(\"\"\"select * from students\"\"\")\n",
    "rows = cursor.fetchall()"
   ]
  },
  {
   "cell_type": "code",
   "execution_count": 6,
   "id": "4f009e3c",
   "metadata": {},
   "outputs": [
    {
     "name": "stdout",
     "output_type": "stream",
     "text": [
      "(1, 'Inez', 12, 'KTM')\n",
      "(2, 'Jihyaa', 11, 'Khotang')\n",
      "(3, 'Hermez', 10, 'BKT')\n",
      "(10, 'Inan', 10, 'Lalitpur')\n",
      "(11, 'Inez', 12, 'KTM')\n",
      "(12, 'Jihyaa', 11, 'Khotang')\n",
      "(13, 'Hermez', 10, 'BKT')\n",
      "(14, 'Inan', 10, 'Lalitpur')\n",
      "(15, 'Piya', 9, 'Pakistan')\n",
      "(16, 'Riya', 8, 'India')\n",
      "(17, 'Diya', 7, 'Bangladesh')\n",
      "(18, 'Inez', 12, 'KTM')\n",
      "(19, 'Jihyaa', 11, 'PKR')\n",
      "(20, 'Hermez', 10, 'BKT')\n"
     ]
    }
   ],
   "source": [
    "for items in rows:\n",
    "    print(items)"
   ]
  },
  {
   "cell_type": "code",
   "execution_count": 7,
   "id": "9b3e3b01",
   "metadata": {},
   "outputs": [],
   "source": [
    "#update\n",
    "cursor.execute(\"\"\"update students\n",
    "set address = 'Khotang'\n",
    "where name = 'Jihyaa'\"\"\")\n",
    "\n",
    "conn.commit()"
   ]
  },
  {
   "cell_type": "code",
   "execution_count": 8,
   "id": "5ab28c26",
   "metadata": {},
   "outputs": [],
   "source": [
    "#insert new record into students\n",
    "cursor.execute(\"\"\"\n",
    "INSERT INTO students (name, grade, address)\n",
    "VALUES ('Inan', 10, 'Lalitpur')\n",
    "\"\"\")\n",
    "\n",
    "conn.commit()\n"
   ]
  },
  {
   "cell_type": "code",
   "execution_count": 9,
   "id": "8821ef2e",
   "metadata": {},
   "outputs": [],
   "source": [
    "cursor.execute(\"\"\"select * from students where id = 10 \"\"\")\n",
    "rows = cursor.fetchall()"
   ]
  },
  {
   "cell_type": "code",
   "execution_count": 10,
   "id": "17d9f945",
   "metadata": {},
   "outputs": [
    {
     "data": {
      "text/plain": [
       "[(10, 'Inan', 10, 'Lalitpur')]"
      ]
     },
     "execution_count": 10,
     "metadata": {},
     "output_type": "execute_result"
    }
   ],
   "source": [
    "rows"
   ]
  },
  {
   "cell_type": "code",
   "execution_count": 11,
   "id": "04cbc70c",
   "metadata": {},
   "outputs": [],
   "source": [
    "conn = sqlite3.connect('students.db')"
   ]
  },
  {
   "cell_type": "code",
   "execution_count": 12,
   "id": "40ec4f5a",
   "metadata": {},
   "outputs": [],
   "source": [
    "cursor = conn.cursor()"
   ]
  },
  {
   "cell_type": "code",
   "execution_count": 13,
   "id": "991c07fd",
   "metadata": {},
   "outputs": [],
   "source": [
    "name = 'Inan'"
   ]
  },
  {
   "cell_type": "code",
   "execution_count": 14,
   "id": "d97884f2",
   "metadata": {},
   "outputs": [
    {
     "data": {
      "text/plain": [
       "<sqlite3.Cursor at 0x1c1826e3dc0>"
      ]
     },
     "execution_count": 14,
     "metadata": {},
     "output_type": "execute_result"
    }
   ],
   "source": [
    "cursor.execute(\"select * from students where name = ?\", (name,))"
   ]
  },
  {
   "cell_type": "code",
   "execution_count": 15,
   "id": "c1563585",
   "metadata": {},
   "outputs": [
    {
     "data": {
      "text/plain": [
       "[(10, 'Inan', 10, 'Lalitpur'),\n",
       " (14, 'Inan', 10, 'Lalitpur'),\n",
       " (21, 'Inan', 10, 'Lalitpur')]"
      ]
     },
     "execution_count": 15,
     "metadata": {},
     "output_type": "execute_result"
    }
   ],
   "source": [
    "cursor.fetchall()"
   ]
  },
  {
   "cell_type": "code",
   "execution_count": 16,
   "id": "135dee13",
   "metadata": {},
   "outputs": [],
   "source": [
    "#create a list of students record and pass it as parameterized query\n",
    "#to insert into students table"
   ]
  },
  {
   "cell_type": "code",
   "execution_count": 17,
   "id": "be4e0890",
   "metadata": {},
   "outputs": [],
   "source": [
    "students = [\n",
    "    ('Piya', 9, 'Pakistan'),\n",
    "    ('Riya', 8, 'India'),\n",
    "    ('Diya', 7, 'Bangladesh')\n",
    "]\n"
   ]
  },
  {
   "cell_type": "code",
   "execution_count": null,
   "id": "8f8239d5",
   "metadata": {},
   "outputs": [],
   "source": [
    "cursor.executemany(\"\"\"\n",
    "INSERT INTO students (name, grade, address)\n",
    "VALUES (?, ?, ?)\n",
    "\"\"\", students)\n",
    "\n",
    "conn.commit()"
   ]
  },
  {
   "cell_type": "code",
   "execution_count": 23,
   "id": "8677fe50",
   "metadata": {},
   "outputs": [],
   "source": [
    "cursor.execute(\"SELECT * FROM students\")\n",
    "rows =cursor.fetchall()"
   ]
  },
  {
   "cell_type": "code",
   "execution_count": 24,
   "id": "5a7f34ef",
   "metadata": {},
   "outputs": [
    {
     "data": {
      "text/plain": [
       "[(1, 'Inez', 12, 'KTM'),\n",
       " (2, 'Jihyaa', 11, 'Khotang'),\n",
       " (3, 'Hermez', 10, 'BKT'),\n",
       " (10, 'Inan', 10, 'Lalitpur'),\n",
       " (11, 'Inez', 12, 'KTM'),\n",
       " (12, 'Jihyaa', 11, 'Khotang'),\n",
       " (13, 'Hermez', 10, 'BKT'),\n",
       " (14, 'Inan', 10, 'Lalitpur'),\n",
       " (15, 'Piya', 9, 'Pakistan'),\n",
       " (16, 'Riya', 8, 'India'),\n",
       " (17, 'Diya', 7, 'Bangladesh'),\n",
       " (18, 'Inez', 12, 'KTM'),\n",
       " (19, 'Jihyaa', 11, 'Khotang'),\n",
       " (20, 'Hermez', 10, 'BKT'),\n",
       " (21, 'Inan', 10, 'Lalitpur'),\n",
       " (22, 'Piya', 9, 'Pakistan'),\n",
       " (23, 'Riya', 8, 'India'),\n",
       " (24, 'Diya', 7, 'Bangladesh')]"
      ]
     },
     "execution_count": 24,
     "metadata": {},
     "output_type": "execute_result"
    }
   ],
   "source": [
    "rows"
   ]
  },
  {
   "cell_type": "code",
   "execution_count": null,
   "id": "afa5172c",
   "metadata": {},
   "outputs": [],
   "source": []
  }
 ],
 "metadata": {
  "kernelspec": {
   "display_name": "Python 3",
   "language": "python",
   "name": "python3"
  },
  "language_info": {
   "codemirror_mode": {
    "name": "ipython",
    "version": 3
   },
   "file_extension": ".py",
   "mimetype": "text/x-python",
   "name": "python",
   "nbconvert_exporter": "python",
   "pygments_lexer": "ipython3",
   "version": "3.12.4"
  }
 },
 "nbformat": 4,
 "nbformat_minor": 5
}
